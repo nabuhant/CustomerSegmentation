{
 "cells": [
  {
   "cell_type": "code",
   "execution_count": null,
   "id": "c675166c",
   "metadata": {},
   "outputs": [],
   "source": [
    "# Import dependencies\n",
    "import pandas as pd \n",
    "import numpy as np\n",
    "import matplotlib.pyplot as plt\n"
   ]
  },
  {
   "cell_type": "code",
   "execution_count": null,
   "id": "d489e1f3",
   "metadata": {},
   "outputs": [],
   "source": [
    "from datetime import date\n",
    "import plotly.express as px\n",
    "import seaborn as sns\n",
    "# Import linear regression from the SciPy stats module.\n",
    "from scipy.stats import linregress"
   ]
  },
  {
   "cell_type": "code",
   "execution_count": null,
   "id": "600dda76",
   "metadata": {},
   "outputs": [],
   "source": [
    "clean_customerdata_df = pd.read_csv(\"Resources/marketing_campaign.csv\")\n",
    "clean_customerdata_df.head(10)"
   ]
  },
  {
   "cell_type": "code",
   "execution_count": null,
   "id": "6edb4ce1",
   "metadata": {},
   "outputs": [],
   "source": [
    "clean_customerdata_df.describe()"
   ]
  },
  {
   "cell_type": "code",
   "execution_count": null,
   "id": "5c5c72f3",
   "metadata": {},
   "outputs": [],
   "source": [
    "print(clean_customerdata_df.shape)\n",
    "clean_customerdata_df.info()"
   ]
  },
  {
   "cell_type": "code",
   "execution_count": null,
   "id": "16b79a5b",
   "metadata": {},
   "outputs": [],
   "source": [
    "clean_customerdata_df.isnull().sum()"
   ]
  },
  {
   "cell_type": "code",
   "execution_count": null,
   "id": "50f56212",
   "metadata": {},
   "outputs": [],
   "source": [
    "#drop rows where income is NA\n",
    "clean_customerdata_df.dropna(axis = 0, inplace = True)"
   ]
  },
  {
   "cell_type": "markdown",
   "id": "c4925f13",
   "metadata": {},
   "source": [
    "# Income"
   ]
  },
  {
   "cell_type": "code",
   "execution_count": null,
   "id": "66faf165",
   "metadata": {},
   "outputs": [],
   "source": [
    "#Plot a histogram for income <$600000\n",
    "\n",
    "plt.subplot(211)\n",
    "clean_customerdata_df.hist(column = 'Income')\n",
    "plt.xlabel(\"Income\")\n",
    "plt.ylabel(\"No of Customers\")\n",
    "plt.title('Histogram of Income')\n",
    "plt.subplot(212)\n",
    "clean_customerdata_df.query(\"Income < 600000\")['Income'].plot.hist()\n",
    "plt.xlabel(\"Income\")\n",
    "plt.ylabel(\"No of Customers\")\n",
    "plt.title('Histogram of Income (<$600000)')\n",
    "\n",
    "plt.show()"
   ]
  },
  {
   "cell_type": "code",
   "execution_count": null,
   "id": "3f82a1fe",
   "metadata": {},
   "outputs": [],
   "source": [
    "fig = px.histogram(\n",
    "    clean_customerdata_df['Income'],\n",
    "    title = \"Customer's Income Distribution\",\n",
    "    nbins = 30\n",
    ")\n",
    "fig.update_layout(\n",
    "    xaxis_title = \"Customer's Income\",\n",
    "    yaxis_title = \"Frequency\")\n",
    "\n",
    "fig.show()"
   ]
  },
  {
   "cell_type": "code",
   "execution_count": null,
   "id": "3f9309e1",
   "metadata": {},
   "outputs": [],
   "source": [
    "clean_customerdata_df.drop(clean_customerdata_df[clean_customerdata_df.Income > 600000].index, inplace = True)"
   ]
  },
  {
   "cell_type": "code",
   "execution_count": null,
   "id": "5aba881d",
   "metadata": {},
   "outputs": [],
   "source": [
    "fig = px.histogram(\n",
    "    clean_customerdata_df['Income'],\n",
    "    title = \"Customer's Income Distribution (<$600K)\",\n",
    "    nbins = 40\n",
    ")\n",
    "fig.update_layout(\n",
    "    xaxis_title = \"Customer's Income\",\n",
    "    yaxis_title = \"Frequency\")\n",
    "\n",
    "fig.show()\n",
    "\n",
    "#clean_customerdata_df.query(\"Income < 600000\")['Income']"
   ]
  },
  {
   "cell_type": "markdown",
   "id": "ec80ce99",
   "metadata": {},
   "source": [
    "names = ['group_a', 'group_b', 'group_c']\n",
    "values = [1, 10, 100]\n",
    "\n",
    "plt.figure(figsize=(9, 3))\n",
    "\n",
    "plt.subplot(131)\n",
    "plt.bar(names, values)\n",
    "plt.subplot(132)\n",
    "plt.scatter(names, values)\n",
    "plt.subplot(133)\n",
    "plt.plot(names, values)\n",
    "plt.suptitle('Categorical Plotting')\n",
    "plt.show()"
   ]
  },
  {
   "cell_type": "markdown",
   "id": "6388adb2",
   "metadata": {},
   "source": [
    "# Age"
   ]
  },
  {
   "cell_type": "code",
   "execution_count": null,
   "id": "2ec9b055",
   "metadata": {},
   "outputs": [],
   "source": [
    "# Year of Birth\n",
    "def get_age(year_birth):\n",
    "    today = date.today()\n",
    "    age = today.year - year_birth\n",
    "    return age"
   ]
  },
  {
   "cell_type": "code",
   "execution_count": null,
   "id": "fac2b2bd",
   "metadata": {},
   "outputs": [],
   "source": [
    "clean_customerdata_df[\"Age\"] = clean_customerdata_df[\"Year_Birth\"].apply(get_age)\n",
    "clean_customerdata_df[\"Age\"].describe()"
   ]
  },
  {
   "cell_type": "code",
   "execution_count": null,
   "id": "8e7230de",
   "metadata": {},
   "outputs": [],
   "source": [
    "fig = px.histogram(\n",
    "    clean_customerdata_df[\"Age\"],\n",
    "    title = \"Customer's Age Distribution\",\n",
    "    nbins = 25,\n",
    "    color_discrete_sequence=['indianred']\n",
    ")\n",
    "fig.update_layout(\n",
    "    xaxis_title = \"Customer's Age\",\n",
    "    yaxis_title = \"Frequency\")\n",
    "\n",
    "fig.show()"
   ]
  },
  {
   "cell_type": "code",
   "execution_count": null,
   "id": "2d2484c6",
   "metadata": {},
   "outputs": [],
   "source": [
    "clean_customerdata_df.drop(clean_customerdata_df[clean_customerdata_df.Age > 90].index, inplace = True)"
   ]
  },
  {
   "cell_type": "code",
   "execution_count": null,
   "id": "542e7294",
   "metadata": {},
   "outputs": [],
   "source": [
    "fig = px.histogram(\n",
    "    clean_customerdata_df[\"Age\"],\n",
    "    title = \"Customer's Age Distribution\",\n",
    "    nbins = 25,\n",
    "    color_discrete_sequence=['indianred']\n",
    ")\n",
    "fig.update_layout(\n",
    "    xaxis_title = \"Customer's Age\",\n",
    "    yaxis_title = \"Frequency\")\n",
    "\n",
    "fig.show()"
   ]
  },
  {
   "cell_type": "markdown",
   "id": "ead51ff2",
   "metadata": {},
   "source": [
    "### Stat Canada Age Categories:\n",
    "Children (00-14 years)  \n",
    "Youth (15-24 years)  \n",
    "Adults (25-64 years)  \n",
    "Seniors (65 years and over)  "
   ]
  },
  {
   "cell_type": "code",
   "execution_count": null,
   "id": "b10e2751",
   "metadata": {},
   "outputs": [],
   "source": [
    "# dividing age into groups\n",
    "clean_customerdata_df['Age_Group'] = pd.cut(x = clean_customerdata_df['Age'], bins = [0, 14, 24, 64, 90],\n",
    "                         labels = ['Child','Youth','Adult','Senior'])"
   ]
  },
  {
   "cell_type": "code",
   "execution_count": null,
   "id": "233fbf68",
   "metadata": {},
   "outputs": [],
   "source": [
    "print(\"Count per category in the feature Age_Group:\\n\", clean_customerdata_df[\"Age_Group\"].value_counts(), \"\\n\")"
   ]
  },
  {
   "cell_type": "code",
   "execution_count": null,
   "id": "a1160497",
   "metadata": {},
   "outputs": [],
   "source": [
    "fig = px.bar(clean_customerdata_df, x='Age_Group')\n",
    "fig.show()"
   ]
  },
  {
   "cell_type": "markdown",
   "id": "77031785",
   "metadata": {},
   "source": [
    "# Date Joined"
   ]
  },
  {
   "cell_type": "code",
   "execution_count": null,
   "id": "07195243",
   "metadata": {},
   "outputs": [],
   "source": [
    "clean_customerdata_df[\"Date_Enrolled\"] = pd.to_datetime(clean_customerdata_df[\"Date_Enrolled\"])\n",
    "\n",
    "dates = []\n",
    "for x in clean_customerdata_df[\"Date_Enrolled\"]:\n",
    "    x = x.date()\n",
    "    dates.append(x)\n",
    "#print(dates)    \n",
    "#Enrollment dates of the newest and oldest recorded customer\n",
    "print(\"The newest customer enrolled on:\", max(dates))\n",
    "print(\"The oldest customer enrolled on:\", min(dates))"
   ]
  },
  {
   "cell_type": "code",
   "execution_count": null,
   "id": "a10aec0d",
   "metadata": {},
   "outputs": [],
   "source": [
    "#Cust_Days (ref: https://www.codegrepper.com/code-examples/python/extract+number+of+days+from+datatime+python)\n",
    "days = []\n",
    "max_date = max(dates) #taking it to be the newest customer\n",
    "for x in dates:\n",
    "    diff = max_date - x\n",
    "    days.append(diff)\n",
    "clean_customerdata_df[\"Cust_Days\"] = days\n",
    "#print(days)\n",
    "\n",
    "clean_customerdata_df[\"Cust_Days\"] = pd.to_numeric(clean_customerdata_df[\"Cust_Days\"].dt.days, downcast = 'integer')\n",
    "#https://stackoverflow.com/questions/25646200/python-convert-timedelta-to-int-in-a-dataframe\n",
    "\n",
    "#clean_customerdata_df[\"Cust_Days\"] = (days / np.timedelta64(1, 'D')).astype(int)\n",
    "#clean_customerdata_df['Cust_Days2'] = clean_customerdata_df['Cust_Days'].apply(lambda z: z.value)\n",
    "#clean_customerdata_df['Cust_Days2'] = clean_customerdata_df['Cust_Days'].divide(86400)"
   ]
  },
  {
   "cell_type": "code",
   "execution_count": null,
   "id": "e8ea383b",
   "metadata": {},
   "outputs": [],
   "source": [
    "# The day, month and year cutomer joined\n",
    "clean_customerdata_df['Year_Joined'] = clean_customerdata_df['Date_Enrolled'].dt.year\n",
    "clean_customerdata_df['Month_Joined'] = clean_customerdata_df['Date_Enrolled'].dt.strftime(\"%B\")\n",
    "clean_customerdata_df['Day_Joined'] = clean_customerdata_df['Date_Enrolled'].dt.day_name()\n"
   ]
  },
  {
   "cell_type": "code",
   "execution_count": null,
   "id": "b3683eba",
   "metadata": {},
   "outputs": [],
   "source": [
    "fig = px.histogram(clean_customerdata_df, x=\"Month_Joined\")\n",
    "fig.update_layout(bargap=0.2)\n",
    "fig.show()"
   ]
  },
  {
   "cell_type": "code",
   "execution_count": null,
   "id": "fb6a314a",
   "metadata": {},
   "outputs": [],
   "source": [
    "clean_customerdata_df.plot.scatter(x = 'Cust_Days', y = 'Income')\n",
    "#plt.xlim(0, 2)\n",
    "plt.title(\"No of Days as Customer vs. Income (<$600K)\")\n",
    "plt.ylim(0, 175000)\n",
    "plt.show(block=True)"
   ]
  },
  {
   "cell_type": "markdown",
   "id": "8178cba3",
   "metadata": {},
   "source": [
    "# Marital Status, Family & Education"
   ]
  },
  {
   "cell_type": "code",
   "execution_count": null,
   "id": "2c61014f",
   "metadata": {},
   "outputs": [],
   "source": [
    "print(\"Education Values: \", clean_customerdata_df[\"Education\"].unique())\n",
    "print(\"Marital_Status Values:\", clean_customerdata_df[\"Marital_Status\"].unique())\n",
    "\n",
    "print(\"Count per category in the feature Marital_Status:\\n\", clean_customerdata_df[\"Marital_Status\"].value_counts(), \"\\n\")\n",
    "print(\"Count per category in the feature Education:\\n\", clean_customerdata_df[\"Education\"].value_counts())"
   ]
  },
  {
   "cell_type": "code",
   "execution_count": null,
   "id": "3037aef1",
   "metadata": {},
   "outputs": [],
   "source": [
    "map_status = {\"Together\": \"Partner\", \"Married\": \"Partner\",\n",
    "              \"YOLO\": \"Single\", \"Absurd\": \"Single\", \"Alone\": \"Single\", \"Widow\": \"Single\", \"Divorced\": \"Single\"}\n",
    "\n",
    "clean_customerdata_df[\"Marital_Status_map\"] = clean_customerdata_df[\"Marital_Status\"].replace(map_status)\n",
    "\n",
    "\n",
    "map_edu = {\"Graduation\": \"Graduate\",\n",
    "           \"Master\": \"PostGrad\", \"PhD\": \"PostGrad\",\n",
    "           \"Basic\": \"UnderGrad\", \"2n Cycle\": \"UnderGrad\"}\n",
    "\n",
    "clean_customerdata_df[\"Education_map\"] = clean_customerdata_df[\"Education\"].replace(map_edu)"
   ]
  },
  {
   "cell_type": "code",
   "execution_count": null,
   "id": "3b399051",
   "metadata": {},
   "outputs": [],
   "source": [
    "print(\"Count per mapped category in Marital_Status:\\n\", clean_customerdata_df[\"Marital_Status_map\"].value_counts(), \"\\n\")\n",
    "print(\"Count per mapped category in Education:\\n\", clean_customerdata_df[\"Education_map\"].value_counts())"
   ]
  },
  {
   "cell_type": "code",
   "execution_count": null,
   "id": "52e5b86a",
   "metadata": {},
   "outputs": [],
   "source": [
    "# Total children living in the household\n",
    "clean_customerdata_df[\"Children\"] = clean_customerdata_df[\"Children_Per_Household\"] + clean_customerdata_df[\"Teens_Per_Household\"]"
   ]
  },
  {
   "cell_type": "code",
   "execution_count": null,
   "id": "f93c56c4",
   "metadata": {},
   "outputs": [],
   "source": [
    "#customer_df[\"Family_Size\"] = customer_df[\"Marital_Status\"].replace({0: 1, 1:2})+ customer_df[\"Total_kids\"]\n",
    "#customer_df[\"Family_Size\"]\n",
    "\n",
    "clean_customerdata_df[\"Family_Size\"] = clean_customerdata_df[\"Marital_Status_map\"].replace({\"Single\": 1, \"Partner\":2}) + clean_customerdata_df[\"Children\"]\n",
    "\n",
    "clean_customerdata_df[\"has_kids\"] = np.where(clean_customerdata_df.Children> 0, 1, 0)\n"
   ]
  },
  {
   "cell_type": "markdown",
   "id": "f3c18ab4",
   "metadata": {},
   "source": [
    "# Other Stats"
   ]
  },
  {
   "cell_type": "code",
   "execution_count": null,
   "id": "6abf9552",
   "metadata": {},
   "outputs": [],
   "source": [
    "# Total number of purchases made per customer\n",
    "clean_customerdata_df['TotalNumPurchases'] = clean_customerdata_df['Web_Purchases'] + clean_customerdata_df['Catalog_Purchases'] + clean_customerdata_df['Store_Purchases'] + clean_customerdata_df['Deal_Purchases']\n",
    "\n",
    "# Total number of accepted campaigns per customer\n",
    "clean_customerdata_df['Total_Acc_Cmp'] = clean_customerdata_df['AcceptedCmp1'] + clean_customerdata_df['AcceptedCmp2'] + clean_customerdata_df['AcceptedCmp3'] + clean_customerdata_df['AcceptedCmp4'] + clean_customerdata_df['AcceptedCmp5'] + clean_customerdata_df['Response']\n",
    "\n",
    "#Total spendings on various items\n",
    "clean_customerdata_df[\"Total_Spent\"] = (clean_customerdata_df[\"Wines\"] + clean_customerdata_df[\"Fruits\"] + clean_customerdata_df[\"Meat\"] \n",
    "                        + clean_customerdata_df[\"Fish\"] + clean_customerdata_df[\"Sweets\"] + clean_customerdata_df[\"Gold\"])"
   ]
  },
  {
   "cell_type": "code",
   "execution_count": null,
   "id": "1b22851d",
   "metadata": {},
   "outputs": [],
   "source": [
    "clean_customerdata_df.info()"
   ]
  },
  {
   "cell_type": "code",
   "execution_count": null,
   "id": "f70a7312",
   "metadata": {},
   "outputs": [],
   "source": [
    "To_Plot = [ \"Income\", \"Recency\", \"Cust_Days\", \"Age\", \"Total_Spent\", \"has_kids\", \"Family_Size\"]\n",
    "plt.figure()\n",
    "sns.pairplot(clean_customerdata_df[To_Plot], hue = \"has_kids\")\n",
    "plt.show()"
   ]
  },
  {
   "cell_type": "code",
   "execution_count": null,
   "id": "ae943b0c",
   "metadata": {},
   "outputs": [],
   "source": [
    "corrmat= clean_customerdata_df.corr()\n",
    "plt.figure(figsize=(20,20))  \n",
    "sns.heatmap(corrmat,annot=True, center=0)"
   ]
  },
  {
   "cell_type": "code",
   "execution_count": null,
   "id": "0139f321",
   "metadata": {},
   "outputs": [],
   "source": [
    "def plot_linear_regression(x_values, y_values, title, y_label, text_coordinates):\n",
    "    \n",
    "    # Run regression on hemisphere weather data.\n",
    "    (slope, intercept, r_value, p_value, std_err) = linregress(x_values, y_values)\n",
    "    \n",
    "    # Calculate the regression line \"y values\" from the slope and intercept.\n",
    "    regress_values = x_values * slope + intercept\n",
    "    \n",
    "    # Get the equation of the line.\n",
    "    line_eq = \"y = \" + str(round(slope, 2)) + \"x + \" + str(round(intercept, 2))\n",
    "    \n",
    "    # Create a scatter plot and plot the regression line.\n",
    "    plt.scatter(x_values,y_values)\n",
    "    plt.plot(x_values,regress_values,\"r\")\n",
    "    \n",
    "    # Annotate the text for the line equation.\n",
    "    plt.annotate(line_eq, text_coordinates, fontsize=15, color=\"red\") #text_coordinates is location of line on plot\n",
    "    plt.title(title)\n",
    "    plt.xlabel('Income (<$600k)')\n",
    "    plt.ylabel(y_label)\n",
    "    plt.show()\n",
    "    \n",
    "    print(f\"The p-value is: {p_value}\")\n",
    "    print(f\"The r-value is: {r_value:.3f}\")"
   ]
  },
  {
   "cell_type": "code",
   "execution_count": null,
   "id": "737de33e",
   "metadata": {},
   "outputs": [],
   "source": [
    "x_values = clean_customerdata_df.query(\"Income < 600000\")['Income']\n",
    "y_values = clean_customerdata_df.query(\"Income < 600000\")['Total_Spent']\n",
    "\n",
    "# Call the function.\n",
    "plot_linear_regression(x_values, y_values,\n",
    "                       'Correlation on the Income (<$600k) & Total Spent', 'Total Spent ($)',(10,0))"
   ]
  },
  {
   "cell_type": "code",
   "execution_count": null,
   "id": "31b00788",
   "metadata": {},
   "outputs": [],
   "source": []
  }
 ],
 "metadata": {
  "kernelspec": {
   "display_name": "PythonData",
   "language": "python",
   "name": "pythondata"
  },
  "language_info": {
   "codemirror_mode": {
    "name": "ipython",
    "version": 3
   },
   "file_extension": ".py",
   "mimetype": "text/x-python",
   "name": "python",
   "nbconvert_exporter": "python",
   "pygments_lexer": "ipython3",
   "version": "3.9.7"
  }
 },
 "nbformat": 4,
 "nbformat_minor": 5
}
